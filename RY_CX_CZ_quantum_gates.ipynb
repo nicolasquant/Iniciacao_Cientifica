{
  "nbformat": 4,
  "nbformat_minor": 0,
  "metadata": {
    "colab": {
      "provenance": [],
      "authorship_tag": "ABX9TyPz6wk/3nINZMIw7CDXvOjd",
      "include_colab_link": true
    },
    "kernelspec": {
      "name": "python3",
      "display_name": "Python 3"
    },
    "language_info": {
      "name": "python"
    }
  },
  "cells": [
    {
      "cell_type": "markdown",
      "metadata": {
        "id": "view-in-github",
        "colab_type": "text"
      },
      "source": [
        "<a href=\"https://colab.research.google.com/github/nicolasquant/Iniciacao_Cientifica/blob/main/RY_CX_CZ_quantum_gates.ipynb\" target=\"_parent\"><img src=\"https://colab.research.google.com/assets/colab-badge.svg\" alt=\"Open In Colab\"/></a>"
      ]
    },
    {
      "cell_type": "code",
      "source": [
        "!pip install qiskit==0.45.3\n",
        "!pip install pylatexenc"
      ],
      "metadata": {
        "colab": {
          "base_uri": "https://localhost:8080/"
        },
        "id": "hbCLzcrBUn66",
        "outputId": "413fca8f-3823-4a85-9b02-f459e348bd29"
      },
      "execution_count": null,
      "outputs": [
        {
          "output_type": "stream",
          "name": "stdout",
          "text": [
            "Requirement already satisfied: qiskit==0.45.3 in /usr/local/lib/python3.11/dist-packages (0.45.3)\n",
            "Requirement already satisfied: qiskit-terra==0.45.3 in /usr/local/lib/python3.11/dist-packages (from qiskit==0.45.3) (0.45.3)\n",
            "Requirement already satisfied: rustworkx>=0.13.0 in /usr/local/lib/python3.11/dist-packages (from qiskit-terra==0.45.3->qiskit==0.45.3) (0.16.0)\n",
            "Requirement already satisfied: numpy<2,>=1.17 in /usr/local/lib/python3.11/dist-packages (from qiskit-terra==0.45.3->qiskit==0.45.3) (1.26.4)\n",
            "Requirement already satisfied: ply>=3.10 in /usr/local/lib/python3.11/dist-packages (from qiskit-terra==0.45.3->qiskit==0.45.3) (3.11)\n",
            "Requirement already satisfied: psutil>=5 in /usr/local/lib/python3.11/dist-packages (from qiskit-terra==0.45.3->qiskit==0.45.3) (5.9.5)\n",
            "Requirement already satisfied: scipy>=1.5 in /usr/local/lib/python3.11/dist-packages (from qiskit-terra==0.45.3->qiskit==0.45.3) (1.15.2)\n",
            "Requirement already satisfied: sympy>=1.3 in /usr/local/lib/python3.11/dist-packages (from qiskit-terra==0.45.3->qiskit==0.45.3) (1.13.1)\n",
            "Requirement already satisfied: dill>=0.3 in /usr/local/lib/python3.11/dist-packages (from qiskit-terra==0.45.3->qiskit==0.45.3) (0.4.0)\n",
            "Requirement already satisfied: python-dateutil>=2.8.0 in /usr/local/lib/python3.11/dist-packages (from qiskit-terra==0.45.3->qiskit==0.45.3) (2.9.0.post0)\n",
            "Requirement already satisfied: stevedore>=3.0.0 in /usr/local/lib/python3.11/dist-packages (from qiskit-terra==0.45.3->qiskit==0.45.3) (5.4.1)\n",
            "Requirement already satisfied: symengine!=0.10.0,>=0.9 in /usr/local/lib/python3.11/dist-packages (from qiskit-terra==0.45.3->qiskit==0.45.3) (0.14.1)\n",
            "Requirement already satisfied: six>=1.5 in /usr/local/lib/python3.11/dist-packages (from python-dateutil>=2.8.0->qiskit-terra==0.45.3->qiskit==0.45.3) (1.17.0)\n",
            "Requirement already satisfied: pbr>=2.0.0 in /usr/local/lib/python3.11/dist-packages (from stevedore>=3.0.0->qiskit-terra==0.45.3->qiskit==0.45.3) (6.1.1)\n",
            "Requirement already satisfied: mpmath<1.4,>=1.1.0 in /usr/local/lib/python3.11/dist-packages (from sympy>=1.3->qiskit-terra==0.45.3->qiskit==0.45.3) (1.3.0)\n",
            "Requirement already satisfied: setuptools in /usr/local/lib/python3.11/dist-packages (from pbr>=2.0.0->stevedore>=3.0.0->qiskit-terra==0.45.3->qiskit==0.45.3) (75.2.0)\n",
            "Requirement already satisfied: pylatexenc in /usr/local/lib/python3.11/dist-packages (2.10)\n"
          ]
        }
      ]
    },
    {
      "cell_type": "code",
      "execution_count": null,
      "metadata": {
        "id": "YfkaszBSUOw6"
      },
      "outputs": [],
      "source": [
        "from qiskit import QuantumCircuit\n",
        "from qiskit.visualization import plot_bloch_multivector\n",
        "from qiskit.quantum_info import Statevector\n",
        "import matplotlib.pyplot as plt\n",
        "import numpy as np\n",
        "\n",
        "# Criando um circuito com 2 qubits\n",
        "qc = QuantumCircuit(2)\n",
        "\n",
        "# Aplicando uma porta RY no qubit 0 com ângulo π/2\n",
        "qc.ry(3.1415 / 2, 0)\n",
        "\n",
        "# Aplicando uma porta CX (CNOT), com qubit 0 como controle e qubit 1 como alvo\n",
        "qc.cx(0, 1)\n",
        "\n",
        "# Aplicando uma porta CZ, com qubit 1 como controle e qubit 0 como alvo\n",
        "qc.cz(1, 0)\n",
        "\n",
        "# Desenhando o circuito com estilo\n",
        "qc.draw(output='mpl', style='clifford')\n",
        "\n",
        "# Mostrando o gráfico (necessário fora de Jupyter Notebook)\n",
        "plt.show()"
      ]
    }
  ]
}